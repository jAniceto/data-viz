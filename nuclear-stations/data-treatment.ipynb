{
 "cells": [
  {
   "cell_type": "markdown",
   "metadata": {},
   "source": [
    "# Nuclear Power Stations"
   ]
  },
  {
   "cell_type": "markdown",
   "metadata": {},
   "source": [
    "## Data treatment"
   ]
  },
  {
   "cell_type": "code",
   "execution_count": 1,
   "metadata": {},
   "outputs": [],
   "source": [
    "# Data from https://en.wikipedia.org/wiki/List_of_nuclear_power_stations\n",
    "GPX_FILE = 'nuclear-stations.kml'\n",
    "CSV_FILE = 'nuclear-stations.csv'"
   ]
  },
  {
   "cell_type": "markdown",
   "metadata": {},
   "source": [
    "**Load GPX** data containing coordinates"
   ]
  },
  {
   "cell_type": "code",
   "execution_count": 2,
   "metadata": {},
   "outputs": [],
   "source": [
    "from pykml import parser\n",
    "\n",
    "\n",
    "with open(GPX_FILE, encoding=\"utf8\") as f:\n",
    "    folder = parser.parse(f).getroot().Document.Folder\n",
    "\n",
    "locations_list = []\n",
    "for pm in folder.Placemark:\n",
    "    place_name1 = pm.name\n",
    "    plcs1 = pm.Point.coordinates\n",
    "    locations_list.append({\n",
    "        'Name': place_name1.text,\n",
    "        'Coordinates': plcs1.text,\n",
    "        'Longitude': float(plcs1.text.split(',')[0]),\n",
    "        'Latitude': float(plcs1.text.split(',')[1]),\n",
    "    })"
   ]
  },
  {
   "cell_type": "markdown",
   "metadata": {},
   "source": [
    "Save GPX data to a CSV file"
   ]
  },
  {
   "cell_type": "code",
   "execution_count": 3,
   "metadata": {},
   "outputs": [],
   "source": [
    "import csv\n",
    "\n",
    "\n",
    "with open('gpx_data.csv', 'w', encoding=\"utf8\", newline='') as f:\n",
    "    fnames = ['Name', 'Coordinates', 'Latitude', 'Longitude']\n",
    "    writer = csv.DictWriter(f, fieldnames=fnames, delimiter=';')    \n",
    "    writer.writeheader()  # writes the headers to the CSV file.\n",
    "    for d in locations_list:\n",
    "        writer.writerow(d)"
   ]
  },
  {
   "cell_type": "markdown",
   "metadata": {},
   "source": [
    "**Load CSV** containing additional station info"
   ]
  },
  {
   "cell_type": "code",
   "execution_count": null,
   "metadata": {},
   "outputs": [],
   "source": [
    "with open(CSV_FILE, 'r', encoding=\"utf-8\") as f:\n",
    "    reader = csv.DictReader(f, delimiter=';')\n",
    "    station_info_list = []\n",
    "    for row in reader:\n",
    "        station_info_list.append({\n",
    "            'name': row['name'],\n",
    "            'units': int(row['units']), \n",
    "            'capacity': int(row['capacity'].replace(',', '')),\n",
    "            'country': row['country'].replace('\\xa0', ''),\n",
    "            'coordinates': row['coordinates']\n",
    "        })"
   ]
  },
  {
   "cell_type": "code",
   "execution_count": null,
   "metadata": {},
   "outputs": [],
   "source": [
    "with open('capacity_data.csv', 'w', encoding=\"utf-8\", newline='') as f:\n",
    "    fnames = ['name', 'units', 'capacity', 'country', 'coordinates']\n",
    "    writer = csv.DictWriter(f, fieldnames=fnames, delimiter=';')    \n",
    "    writer.writeheader()  # writes the headers to the CSV file.\n",
    "    for d in station_info_list:\n",
    "        writer.writerow(d)"
   ]
  }
 ],
 "metadata": {
  "kernelspec": {
   "display_name": "Python 3",
   "language": "python",
   "name": "python3"
  },
  "language_info": {
   "codemirror_mode": {
    "name": "ipython",
    "version": 3
   },
   "file_extension": ".py",
   "mimetype": "text/x-python",
   "name": "python",
   "nbconvert_exporter": "python",
   "pygments_lexer": "ipython3",
   "version": "3.7.4"
  }
 },
 "nbformat": 4,
 "nbformat_minor": 2
}
